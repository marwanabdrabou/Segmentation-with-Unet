{
 "cells": [
  {
   "cell_type": "markdown",
   "id": "89832141",
   "metadata": {},
   "source": [
    "# Import Packges"
   ]
  },
  {
   "cell_type": "code",
   "execution_count": 1,
   "id": "495e7ba3",
   "metadata": {},
   "outputs": [],
   "source": [
    "import tensorflow as tf\n",
    "import cv2\n",
    "import numpy as np\n",
    "\n",
    "import warnings\n",
    "import os\n",
    "import random\n",
    "from tqdm import tqdm\n",
    "\n",
    "from skimage.io import imread, imshow\n",
    "from skimage.transform import resize\n",
    "import matplotlib.pyplot as plt\n",
    "\n",
    "warnings.filterwarnings('ignore', category=UserWarning, module='skimage')\n"
   ]
  },
  {
   "cell_type": "code",
   "execution_count": 2,
   "id": "adb9820b",
   "metadata": {},
   "outputs": [],
   "source": [
    "# Input Image\n",
    "width_img=128\n",
    "hight_img=128\n",
    "chanel_img=3"
   ]
  },
  {
   "cell_type": "code",
   "execution_count": 3,
   "id": "c5c8f85e",
   "metadata": {},
   "outputs": [],
   "source": [
    "# Define the folder path\n",
    "tr_path='stage1_train/'\n",
    "ts_path='stage1_test/'\n",
    "\n",
    "seed=42\n",
    "random.seed=seed\n",
    "np.random.seed=seed\n",
    "\n",
    "# Get train and test ids\n",
    "tr_ids=next(os.walk(tr_path))[1]\n",
    "ts_ids=next(os.walk(ts_path))[1]"
   ]
  },
  {
   "cell_type": "markdown",
   "id": "3f6bd6eb",
   "metadata": {},
   "source": [
    "# Preprocessing image"
   ]
  },
  {
   "cell_type": "code",
   "execution_count": 4,
   "id": "731680f9",
   "metadata": {},
   "outputs": [
    {
     "name": "stderr",
     "output_type": "stream",
     "text": [
      "C:\\Users\\Marwan Gamal\\AppData\\Local\\Temp\\ipykernel_5724\\3956398258.py:3: DeprecationWarning: `np.bool` is a deprecated alias for the builtin `bool`. To silence this warning, use `bool` by itself. Doing this will not modify any behavior and is safe. If you specifically wanted the numpy scalar type, use `np.bool_` here.\n",
      "Deprecated in NumPy 1.20; for more details and guidance: https://numpy.org/devdocs/release/1.20.0-notes.html#deprecations\n",
      "  y_train= np.zeros((len(tr_ids), hight_img, width_img, 1), dtype= np.bool)\n"
     ]
    }
   ],
   "source": [
    "# Creatr array with zeros of the same size as the resize image size\n",
    "x_train=np.zeros((len(tr_ids), hight_img, width_img, chanel_img), dtype=np.uint8)\n",
    "y_train= np.zeros((len(tr_ids), hight_img, width_img, 1), dtype= np.bool)"
   ]
  },
  {
   "cell_type": "code",
   "execution_count": 5,
   "id": "21d1b4a6",
   "metadata": {},
   "outputs": [
    {
     "name": "stderr",
     "output_type": "stream",
     "text": [
      "  0%|                                                                                          | 0/670 [00:00<?, ?it/s]C:\\Users\\Marwan Gamal\\AppData\\Local\\Temp\\ipykernel_5724\\726799481.py:9: DeprecationWarning: `np.bool` is a deprecated alias for the builtin `bool`. To silence this warning, use `bool` by itself. Doing this will not modify any behavior and is safe. If you specifically wanted the numpy scalar type, use `np.bool_` here.\n",
      "Deprecated in NumPy 1.20; for more details and guidance: https://numpy.org/devdocs/release/1.20.0-notes.html#deprecations\n",
      "  mask= np.zeros((hight_img, width_img, 1), dtype=np.bool)\n",
      "100%|████████████████████████████████████████████████████████████████████████████████| 670/670 [03:44<00:00,  2.99it/s]\n"
     ]
    }
   ],
   "source": [
    "# Resize train images and masks\n",
    "\n",
    "for n, id_ in tqdm (enumerate(tr_ids), total=len(tr_ids)):\n",
    "    path= tr_path + id_\n",
    "    img= imread(path+ '/images/' + id_ + '.png')[:,:,:chanel_img]\n",
    "    img= resize(img,(hight_img, width_img), mode='constant', preserve_range=True)\n",
    "    x_train[n]=img # Filling empty x_train with values from img\n",
    "    \n",
    "    mask= np.zeros((hight_img, width_img, 1), dtype=np.bool)\n",
    "    for mask_file in next(os.walk(path + '/masks/'))[2]:\n",
    "        mask_ = imread(path + '/masks/' + mask_file)\n",
    "        mask_ = np.expand_dims(resize(mask_, (hight_img, width_img), mode= 'constant', preserve_range=True), axis=-1)\n",
    "        mask= np.maximum(mask, mask_)\n",
    "    y_train[n]= mask"
   ]
  },
  {
   "cell_type": "code",
   "execution_count": 6,
   "id": "53905e6b",
   "metadata": {},
   "outputs": [
    {
     "name": "stderr",
     "output_type": "stream",
     "text": [
      "100%|██████████████████████████████████████████████████████████████████████████████████| 65/65 [00:01<00:00, 41.41it/s]\n"
     ]
    }
   ],
   "source": [
    "# Resize test images\n",
    "x_test=np.zeros((len(ts_ids), hight_img, width_img, chanel_img),dtype=np.uint8)\n",
    "sizes_test=[]\n",
    "\n",
    "for n, id_ in tqdm (enumerate(ts_ids), total=len(ts_ids)):\n",
    "    path= ts_path + id_\n",
    "    img= imread(path+ '/images/' + id_ + '.png')[:,:,:chanel_img]\n",
    "    sizes_test.append([img.shape[0], img.shape[1]])\n",
    "    img= resize(img,(hight_img, width_img), mode='constant', preserve_range=True)\n",
    "    x_test[n]=img"
   ]
  },
  {
   "cell_type": "code",
   "execution_count": 20,
   "id": "871c5b26",
   "metadata": {},
   "outputs": [],
   "source": [
    "#imgX =random.randint(0,len(tr_ids))\n",
    "\n",
    "#imshow(x_train[imgX])\n",
    "#plt.title(\"IMAGE\")\n",
    "#plt.axis('off')\n",
    "#plt.show()\n",
    "\n",
    "#plt.title(\"Mask IMAGE\")\n",
    "#plt.axis('off')\n",
    "#imshow(np.squeeze(y_train[imgX]))\n",
    "#plt.show()"
   ]
  },
  {
   "cell_type": "markdown",
   "id": "68a03b99",
   "metadata": {},
   "source": [
    "# Bulid U-net Model"
   ]
  },
  {
   "cell_type": "code",
   "execution_count": 8,
   "id": "f69e2889",
   "metadata": {},
   "outputs": [],
   "source": [
    "Inputs=tf.keras.layers.Input((width_img,hight_img,chanel_img))\n",
    "Convert=tf.keras.layers.Lambda(lambda x:x/255)(Inputs) # convert int to float"
   ]
  },
  {
   "cell_type": "markdown",
   "id": "082da240",
   "metadata": {},
   "source": [
    "#  Contracting Path (Encoding)"
   ]
  },
  {
   "cell_type": "code",
   "execution_count": 9,
   "id": "0adee8e7",
   "metadata": {},
   "outputs": [],
   "source": [
    "c1= tf.keras.layers.Conv2D(16,(3,3),activation='relu',kernel_initializer='he_normal',padding='same')(Convert)\n",
    "c1=tf.keras.layers.Dropout(0.1)(c1)\n",
    "c1= tf.keras.layers.Conv2D(16,(3,3),activation='relu',kernel_initializer='he_normal',padding='same')(c1) \n",
    "p1=tf.keras.layers.MaxPooling2D((2,2))(c1)\n",
    "\n",
    "c2= tf.keras.layers.Conv2D(32,(3,3),activation='relu',kernel_initializer='he_normal',padding='same')(p1)\n",
    "c2=tf.keras.layers.Dropout(0.1)(c2)\n",
    "c2= tf.keras.layers.Conv2D(32,(3,3),activation='relu',kernel_initializer='he_normal',padding='same')(c2) \n",
    "p2=tf.keras.layers.MaxPooling2D((2,2))(c2)\n",
    "\n",
    "c3= tf.keras.layers.Conv2D(64,(3,3),activation='relu',kernel_initializer='he_normal',padding='same')(p2)\n",
    "c3=tf.keras.layers.Dropout(0.2)(c3)\n",
    "c3= tf.keras.layers.Conv2D(64,(3,3),activation='relu',kernel_initializer='he_normal',padding='same')(c3) \n",
    "p3=tf.keras.layers.MaxPooling2D((2,2))(c3)\n",
    "\n",
    "c4= tf.keras.layers.Conv2D(128,(3,3),activation='relu',kernel_initializer='he_normal',padding='same')(p3)\n",
    "c4=tf.keras.layers.Dropout(0.2)(c4)\n",
    "c4= tf.keras.layers.Conv2D(128,(3,3),activation='relu',kernel_initializer='he_normal',padding='same')(c4) \n",
    "p4=tf.keras.layers.MaxPooling2D((2,2))(c4)\n",
    "\n",
    "c5= tf.keras.layers.Conv2D(256,(3,3),activation='relu',kernel_initializer='he_normal',padding='same')(p4)\n",
    "c5=tf.keras.layers.Dropout(0.3)(c5)\n",
    "c5= tf.keras.layers.Conv2D(256,(3,3),activation='relu',kernel_initializer='he_normal',padding='same')(c5) "
   ]
  },
  {
   "cell_type": "markdown",
   "id": "c90ba119",
   "metadata": {},
   "source": [
    "# Expansion path (Decoding)"
   ]
  },
  {
   "cell_type": "code",
   "execution_count": 10,
   "id": "a63c7f9a",
   "metadata": {},
   "outputs": [],
   "source": [
    "U6=tf.keras.layers.Conv2DTranspose(128,(2,2),strides=(2,2),padding='same')(c5)\n",
    "# U6= U6 + C4\n",
    "U6=tf.keras.layers.concatenate([U6,c4])\n",
    "c6= tf.keras.layers.Conv2D(128,(3,3),activation='relu',kernel_initializer='he_normal',padding='same')(U6)\n",
    "c6=tf.keras.layers.Dropout(0.2)(c6)\n",
    "c6= tf.keras.layers.Conv2D(128,(3,3),activation='relu',kernel_initializer='he_normal',padding='same')(c6) \n",
    "U7=tf.keras.layers.Conv2DTranspose(64,(2,2),strides=(2,2),padding='same')(c6)\n",
    "# U7= U7 + C3\n",
    "U7=tf.keras.layers.concatenate([U7,c3])\n",
    "c7= tf.keras.layers.Conv2D(64,(3,3),activation='relu',kernel_initializer='he_normal',padding='same')(U7)\n",
    "c7=tf.keras.layers.Dropout(0.2)(c7)\n",
    "c7= tf.keras.layers.Conv2D(64,(3,3),activation='relu',kernel_initializer='he_normal',padding='same')(c7) \n",
    "\n",
    "U8=tf.keras.layers.Conv2DTranspose(32,(2,2),strides=(2,2),padding='same')(c7)\n",
    "# U8= U8 + C2\n",
    "U8=tf.keras.layers.concatenate([U8,c2])\n",
    "c8= tf.keras.layers.Conv2D(32,(3,3),activation='relu',kernel_initializer='he_normal',padding='same')(U8)\n",
    "c8=tf.keras.layers.Dropout(0.1)(c8)\n",
    "c8= tf.keras.layers.Conv2D(32,(3,3),activation='relu',kernel_initializer='he_normal',padding='same')(c8) \n",
    "\n",
    "U9=tf.keras.layers.Conv2DTranspose(16,(2,2),strides=(2,2),padding='same')(c8)\n",
    "# U9= U9 + C1\n",
    "U9=tf.keras.layers.concatenate([U9,c1], axis=3)\n",
    "c9= tf.keras.layers.Conv2D(16,(3,3),activation='relu',kernel_initializer='he_normal',padding='same')(U9)\n",
    "c9=tf.keras.layers.Dropout(0.1)(c9)\n",
    "c9= tf.keras.layers.Conv2D(16,(3,3),activation='relu',kernel_initializer='he_normal',padding='same')(c9) \n",
    "\n",
    "# Output Layer\n",
    "output_layer=tf.keras.layers.Conv2D(1,(1,1),activation='sigmoid')(c9)"
   ]
  },
  {
   "cell_type": "code",
   "execution_count": 11,
   "id": "44c62056",
   "metadata": {
    "scrolled": true
   },
   "outputs": [
    {
     "name": "stdout",
     "output_type": "stream",
     "text": [
      "Model: \"model\"\n",
      "__________________________________________________________________________________________________\n",
      "Layer (type)                    Output Shape         Param #     Connected to                     \n",
      "==================================================================================================\n",
      "input_1 (InputLayer)            [(None, 128, 128, 3) 0                                            \n",
      "__________________________________________________________________________________________________\n",
      "lambda (Lambda)                 (None, 128, 128, 3)  0           input_1[0][0]                    \n",
      "__________________________________________________________________________________________________\n",
      "conv2d (Conv2D)                 (None, 128, 128, 16) 448         lambda[0][0]                     \n",
      "__________________________________________________________________________________________________\n",
      "dropout (Dropout)               (None, 128, 128, 16) 0           conv2d[0][0]                     \n",
      "__________________________________________________________________________________________________\n",
      "conv2d_1 (Conv2D)               (None, 128, 128, 16) 2320        dropout[0][0]                    \n",
      "__________________________________________________________________________________________________\n",
      "max_pooling2d (MaxPooling2D)    (None, 64, 64, 16)   0           conv2d_1[0][0]                   \n",
      "__________________________________________________________________________________________________\n",
      "conv2d_2 (Conv2D)               (None, 64, 64, 32)   4640        max_pooling2d[0][0]              \n",
      "__________________________________________________________________________________________________\n",
      "dropout_1 (Dropout)             (None, 64, 64, 32)   0           conv2d_2[0][0]                   \n",
      "__________________________________________________________________________________________________\n",
      "conv2d_3 (Conv2D)               (None, 64, 64, 32)   9248        dropout_1[0][0]                  \n",
      "__________________________________________________________________________________________________\n",
      "max_pooling2d_1 (MaxPooling2D)  (None, 32, 32, 32)   0           conv2d_3[0][0]                   \n",
      "__________________________________________________________________________________________________\n",
      "conv2d_4 (Conv2D)               (None, 32, 32, 64)   18496       max_pooling2d_1[0][0]            \n",
      "__________________________________________________________________________________________________\n",
      "dropout_2 (Dropout)             (None, 32, 32, 64)   0           conv2d_4[0][0]                   \n",
      "__________________________________________________________________________________________________\n",
      "conv2d_5 (Conv2D)               (None, 32, 32, 64)   36928       dropout_2[0][0]                  \n",
      "__________________________________________________________________________________________________\n",
      "max_pooling2d_2 (MaxPooling2D)  (None, 16, 16, 64)   0           conv2d_5[0][0]                   \n",
      "__________________________________________________________________________________________________\n",
      "conv2d_6 (Conv2D)               (None, 16, 16, 128)  73856       max_pooling2d_2[0][0]            \n",
      "__________________________________________________________________________________________________\n",
      "dropout_3 (Dropout)             (None, 16, 16, 128)  0           conv2d_6[0][0]                   \n",
      "__________________________________________________________________________________________________\n",
      "conv2d_7 (Conv2D)               (None, 16, 16, 128)  147584      dropout_3[0][0]                  \n",
      "__________________________________________________________________________________________________\n",
      "max_pooling2d_3 (MaxPooling2D)  (None, 8, 8, 128)    0           conv2d_7[0][0]                   \n",
      "__________________________________________________________________________________________________\n",
      "conv2d_8 (Conv2D)               (None, 8, 8, 256)    295168      max_pooling2d_3[0][0]            \n",
      "__________________________________________________________________________________________________\n",
      "dropout_4 (Dropout)             (None, 8, 8, 256)    0           conv2d_8[0][0]                   \n",
      "__________________________________________________________________________________________________\n",
      "conv2d_9 (Conv2D)               (None, 8, 8, 256)    590080      dropout_4[0][0]                  \n",
      "__________________________________________________________________________________________________\n",
      "conv2d_transpose (Conv2DTranspo (None, 16, 16, 128)  131200      conv2d_9[0][0]                   \n",
      "__________________________________________________________________________________________________\n",
      "concatenate (Concatenate)       (None, 16, 16, 256)  0           conv2d_transpose[0][0]           \n",
      "                                                                 conv2d_7[0][0]                   \n",
      "__________________________________________________________________________________________________\n",
      "conv2d_10 (Conv2D)              (None, 16, 16, 128)  295040      concatenate[0][0]                \n",
      "__________________________________________________________________________________________________\n",
      "dropout_5 (Dropout)             (None, 16, 16, 128)  0           conv2d_10[0][0]                  \n",
      "__________________________________________________________________________________________________\n",
      "conv2d_11 (Conv2D)              (None, 16, 16, 128)  147584      dropout_5[0][0]                  \n",
      "__________________________________________________________________________________________________\n",
      "conv2d_transpose_1 (Conv2DTrans (None, 32, 32, 64)   32832       conv2d_11[0][0]                  \n",
      "__________________________________________________________________________________________________\n",
      "concatenate_1 (Concatenate)     (None, 32, 32, 128)  0           conv2d_transpose_1[0][0]         \n",
      "                                                                 conv2d_5[0][0]                   \n",
      "__________________________________________________________________________________________________\n",
      "conv2d_12 (Conv2D)              (None, 32, 32, 64)   73792       concatenate_1[0][0]              \n",
      "__________________________________________________________________________________________________\n",
      "dropout_6 (Dropout)             (None, 32, 32, 64)   0           conv2d_12[0][0]                  \n",
      "__________________________________________________________________________________________________\n",
      "conv2d_13 (Conv2D)              (None, 32, 32, 64)   36928       dropout_6[0][0]                  \n",
      "__________________________________________________________________________________________________\n",
      "conv2d_transpose_2 (Conv2DTrans (None, 64, 64, 32)   8224        conv2d_13[0][0]                  \n",
      "__________________________________________________________________________________________________\n",
      "concatenate_2 (Concatenate)     (None, 64, 64, 64)   0           conv2d_transpose_2[0][0]         \n",
      "                                                                 conv2d_3[0][0]                   \n",
      "__________________________________________________________________________________________________\n",
      "conv2d_14 (Conv2D)              (None, 64, 64, 32)   18464       concatenate_2[0][0]              \n",
      "__________________________________________________________________________________________________\n",
      "dropout_7 (Dropout)             (None, 64, 64, 32)   0           conv2d_14[0][0]                  \n",
      "__________________________________________________________________________________________________\n",
      "conv2d_15 (Conv2D)              (None, 64, 64, 32)   9248        dropout_7[0][0]                  \n",
      "__________________________________________________________________________________________________\n",
      "conv2d_transpose_3 (Conv2DTrans (None, 128, 128, 16) 2064        conv2d_15[0][0]                  \n",
      "__________________________________________________________________________________________________\n",
      "concatenate_3 (Concatenate)     (None, 128, 128, 32) 0           conv2d_transpose_3[0][0]         \n",
      "                                                                 conv2d_1[0][0]                   \n",
      "__________________________________________________________________________________________________\n",
      "conv2d_16 (Conv2D)              (None, 128, 128, 16) 4624        concatenate_3[0][0]              \n",
      "__________________________________________________________________________________________________\n",
      "dropout_8 (Dropout)             (None, 128, 128, 16) 0           conv2d_16[0][0]                  \n",
      "__________________________________________________________________________________________________\n",
      "conv2d_17 (Conv2D)              (None, 128, 128, 16) 2320        dropout_8[0][0]                  \n",
      "__________________________________________________________________________________________________\n",
      "conv2d_18 (Conv2D)              (None, 128, 128, 1)  17          conv2d_17[0][0]                  \n",
      "==================================================================================================\n",
      "Total params: 1,941,105\n",
      "Trainable params: 1,941,105\n",
      "Non-trainable params: 0\n",
      "__________________________________________________________________________________________________\n"
     ]
    }
   ],
   "source": [
    "model=tf.keras.Model(inputs=[Inputs], outputs=[output_layer])\n",
    "model.compile(optimizer='adam', loss='binary_crossentropy',metrics=['accuracy'])\n",
    "model.summary()"
   ]
  },
  {
   "cell_type": "markdown",
   "id": "e0757136",
   "metadata": {},
   "source": [
    "# Model Checkpoint"
   ]
  },
  {
   "cell_type": "code",
   "execution_count": 12,
   "id": "b15355ae",
   "metadata": {},
   "outputs": [],
   "source": [
    "checkpointer = tf.keras.callbacks.ModelCheckpoint('nucleus_Model.hdf5', verbose=1, save_best_only=True)\n",
    "callbacks=[\n",
    "    tf.keras.callbacks.EarlyStopping(monitor='val_loss', patience=3),#Number of epochs with no improvement after which training will be stopped.\n",
    "    tf.keras.callbacks.TensorBoard(log_dir='logs')#the path of the directory where to save the log files to be parsed by TensorBoard.\n",
    "]\n"
   ]
  },
  {
   "cell_type": "code",
   "execution_count": 13,
   "id": "0e123e7d",
   "metadata": {
    "scrolled": true
   },
   "outputs": [
    {
     "name": "stdout",
     "output_type": "stream",
     "text": [
      "Epoch 1/100\n",
      "38/38 [==============================] - 113s 3s/step - loss: 0.6141 - accuracy: 0.7642 - val_loss: 0.4824 - val_accuracy: 0.8162\n",
      "Epoch 2/100\n",
      "38/38 [==============================] - 48s 1s/step - loss: 0.3847 - accuracy: 0.8062 - val_loss: 0.2356 - val_accuracy: 0.8544\n",
      "Epoch 3/100\n",
      "38/38 [==============================] - 48s 1s/step - loss: 0.2297 - accuracy: 0.8897 - val_loss: 0.1686 - val_accuracy: 0.9380\n",
      "Epoch 4/100\n",
      "38/38 [==============================] - 48s 1s/step - loss: 0.1698 - accuracy: 0.9391 - val_loss: 0.1423 - val_accuracy: 0.9458\n",
      "Epoch 5/100\n",
      "38/38 [==============================] - 48s 1s/step - loss: 0.1299 - accuracy: 0.9496 - val_loss: 0.1113 - val_accuracy: 0.9554\n",
      "Epoch 6/100\n",
      "38/38 [==============================] - 48s 1s/step - loss: 0.1225 - accuracy: 0.9524 - val_loss: 0.1349 - val_accuracy: 0.9561\n",
      "Epoch 7/100\n",
      "38/38 [==============================] - 48s 1s/step - loss: 0.1188 - accuracy: 0.9538 - val_loss: 0.1204 - val_accuracy: 0.9549\n",
      "Epoch 8/100\n",
      "38/38 [==============================] - 48s 1s/step - loss: 0.1095 - accuracy: 0.9577 - val_loss: 0.1027 - val_accuracy: 0.9583\n",
      "Epoch 9/100\n",
      "38/38 [==============================] - 48s 1s/step - loss: 0.1039 - accuracy: 0.9599 - val_loss: 0.0954 - val_accuracy: 0.9628\n",
      "Epoch 10/100\n",
      "38/38 [==============================] - 48s 1s/step - loss: 0.0983 - accuracy: 0.9624 - val_loss: 0.0940 - val_accuracy: 0.9638\n",
      "Epoch 11/100\n",
      "38/38 [==============================] - 48s 1s/step - loss: 0.0956 - accuracy: 0.9637 - val_loss: 0.0959 - val_accuracy: 0.9644\n",
      "Epoch 12/100\n",
      "38/38 [==============================] - 48s 1s/step - loss: 0.0935 - accuracy: 0.9642 - val_loss: 0.0920 - val_accuracy: 0.9658\n",
      "Epoch 13/100\n",
      "38/38 [==============================] - 48s 1s/step - loss: 0.0920 - accuracy: 0.9646 - val_loss: 0.0855 - val_accuracy: 0.9665\n",
      "Epoch 14/100\n",
      "38/38 [==============================] - 48s 1s/step - loss: 0.0911 - accuracy: 0.9652 - val_loss: 0.0864 - val_accuracy: 0.9664\n",
      "Epoch 15/100\n",
      "38/38 [==============================] - 48s 1s/step - loss: 0.0896 - accuracy: 0.9656 - val_loss: 0.0883 - val_accuracy: 0.9658\n",
      "Epoch 16/100\n",
      "38/38 [==============================] - 48s 1s/step - loss: 0.0869 - accuracy: 0.9665 - val_loss: 0.0913 - val_accuracy: 0.9656\n"
     ]
    }
   ],
   "source": [
    "history =model.fit(x_train,y_train,validation_split=0.1, batch_size=16 ,epochs=100, callbacks=callbacks)"
   ]
  },
  {
   "cell_type": "code",
   "execution_count": 14,
   "id": "23e48677",
   "metadata": {},
   "outputs": [
    {
     "data": {
      "image/png": "[encoded data removed]",
      "text/plain": [
       "<Figure size 432x288 with 1 Axes>"
      ]
     },
     "metadata": {
      "needs_background": "light"
     },
     "output_type": "display_data"
    }
   ],
   "source": [
    "plt.plot(history.history[\"accuracy\"],c = \"purple\")\n",
    "plt.plot(history.history[\"val_accuracy\"],c = \"orange\")\n",
    "plt.title(\"Accuracy\")\n",
    "plt.ylabel(\"Accuracy\")\n",
    "plt.xlabel(\"Epochs\")\n",
    "plt.legend([\"train\", \"test\"])\n",
    "plt.show();"
   ]
  },
  {
   "cell_type": "code",
   "execution_count": 15,
   "id": "a6d7c26f",
   "metadata": {},
   "outputs": [
    {
     "data": {
      "image/png": "[encoded data removed]",
      "text/plain": [
       "<Figure size 432x288 with 1 Axes>"
      ]
     },
     "metadata": {
      "needs_background": "light"
     },
     "output_type": "display_data"
    }
   ],
   "source": [
    "plt.plot(history.history[\"loss\"],c = \"purple\")\n",
    "plt.plot(history.history[\"val_loss\"],c = \"orange\")\n",
    "plt.title(\"Loss\")\n",
    "plt.ylabel(\"Loss\")\n",
    "plt.xlabel(\"Epochs\")\n",
    "plt.legend([\"train\", \"test\"])\n",
    "plt.show();"
   ]
  },
  {
   "cell_type": "code",
   "execution_count": 16,
   "id": "66df2bdb",
   "metadata": {},
   "outputs": [
    {
     "name": "stdout",
     "output_type": "stream",
     "text": [
      "19/19 [==============================] - 65s 2s/step\n",
      "3/3 [==============================] - 1s 603ms/step\n",
      "3/3 [==============================] - 6s 3s/step\n"
     ]
    }
   ],
   "source": [
    "idx= random.randint(0,len(x_train))\n",
    "prd_train=model.predict(x_train[:int(x_train.shape[0]*0.9)], verbose=1)\n",
    "prd_val=model.predict(x_train[int(x_train.shape[0]*0.9):], verbose=1)\n",
    "prd_test=model.predict(x_test, verbose=1)"
   ]
  },
  {
   "cell_type": "code",
   "execution_count": 17,
   "id": "733806ed",
   "metadata": {},
   "outputs": [],
   "source": [
    "# Each pixel is given a value between 0 & 1. we set a threshold 0.5 to binarize. Threshold prediction to binarize the image  \n",
    "preds_train= (prd_train>0.5).astype(np.uint8)\n",
    "preds_val= (prd_val>0.5).astype(np.uint8)\n",
    "preds_test= (prd_test>0.5).astype(np.uint8)"
   ]
  },
  {
   "cell_type": "code",
   "execution_count": 19,
   "id": "c9ba33be",
   "metadata": {},
   "outputs": [
    {
     "data": {
      "image/png": "[encoded data removed]",
      "text/plain": [
       "<Figure size 432x288 with 1 Axes>"
      ]
     },
     "metadata": {
      "needs_background": "light"
     },
     "output_type": "display_data"
    },
    {
     "data": {
      "image/png": "[encoded data removed]",
      "text/plain": [
       "<Figure size 432x288 with 2 Axes>"
      ]
     },
     "metadata": {
      "needs_background": "light"
     },
     "output_type": "display_data"
    }
   ],
   "source": [
    "ix =random.randint(0,len(preds_train))\n",
    "imshow(x_train[ix])\n",
    "plt.title(\"Input IMAGE\")\n",
    "plt.axis('off')\n",
    "plt.show();\n",
    "\n",
    "#plt.title(\"Mask IMAGE\")\n",
    "#plt.axis('off')\n",
    "#imshow(np.squeeze(y_train[ix]))\n",
    "#plt.show()\n",
    "\n",
    "plt.title(\"Predicted Mask\")\n",
    "plt.axis('off')\n",
    "imshow(np.squeeze(preds_train[ix]))\n",
    "plt.show();"
   ]
  },
  {
   "cell_type": "code",
   "execution_count": null,
   "id": "2b6f9ea8",
   "metadata": {},
   "outputs": [],
   "source": []
  }
 ],
 "metadata": {
  "kernelspec": {
   "display_name": "Python 3 (ipykernel)",
   "language": "python",
   "name": "python3"
  },
  "language_info": {
   "codemirror_mode": {
    "name": "ipython",
    "version": 3
   },
   "file_extension": ".py",
   "mimetype": "text/x-python",
   "name": "python",
   "nbconvert_exporter": "python",
   "pygments_lexer": "ipython3",
   "version": "3.9.7"
  }
 },
 "nbformat": 4,
 "nbformat_minor": 5
}
